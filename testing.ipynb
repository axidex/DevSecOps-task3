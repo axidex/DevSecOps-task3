{
 "cells": [
  {
   "cell_type": "code",
   "execution_count": 3,
   "metadata": {},
   "outputs": [],
   "source": [
    "from git import Repo\n",
    "import os"
   ]
  },
  {
   "cell_type": "code",
   "execution_count": 6,
   "metadata": {},
   "outputs": [
    {
     "ename": "GitCommandError",
     "evalue": "Cmd('git') failed due to: exit code(128)\n  cmdline: git clone -v -- https://github.com/netlify/gocommerce/tree/deploy-button ./rep\n  stderr: 'Cloning into './rep'...\nfatal: repository 'https://github.com/netlify/gocommerce/tree/deploy-button/' not found\n'",
     "output_type": "error",
     "traceback": [
      "\u001b[0;31m---------------------------------------------------------------------------\u001b[0m",
      "\u001b[0;31mGitCommandError\u001b[0m                           Traceback (most recent call last)",
      "\u001b[1;32m/Users/axidex/Documents/github/DevSecOps-task3/testing.ipynb Cell 2\u001b[0m in \u001b[0;36m<cell line: 2>\u001b[0;34m()\u001b[0m\n\u001b[1;32m      <a href='vscode-notebook-cell:/Users/axidex/Documents/github/DevSecOps-task3/testing.ipynb#W2sZmlsZQ%3D%3D?line=0'>1</a>\u001b[0m git_name \u001b[39m=\u001b[39m \u001b[39m\"\u001b[39m\u001b[39mhttps://github.com/netlify/gocommerce/tree/deploy-button\u001b[39m\u001b[39m\"\u001b[39m\n\u001b[0;32m----> <a href='vscode-notebook-cell:/Users/axidex/Documents/github/DevSecOps-task3/testing.ipynb#W2sZmlsZQ%3D%3D?line=1'>2</a>\u001b[0m Repo\u001b[39m.\u001b[39;49mclone_from(git_name, \u001b[39m\"\u001b[39;49m\u001b[39m./rep\u001b[39;49m\u001b[39m\"\u001b[39;49m)\n",
      "File \u001b[0;32m/opt/homebrew/lib/python3.10/site-packages/git/repo/base.py:1327\u001b[0m, in \u001b[0;36mRepo.clone_from\u001b[0;34m(cls, url, to_path, progress, env, multi_options, allow_unsafe_protocols, allow_unsafe_options, **kwargs)\u001b[0m\n\u001b[1;32m   1325\u001b[0m \u001b[39mif\u001b[39;00m env \u001b[39mis\u001b[39;00m \u001b[39mnot\u001b[39;00m \u001b[39mNone\u001b[39;00m:\n\u001b[1;32m   1326\u001b[0m     git\u001b[39m.\u001b[39mupdate_environment(\u001b[39m*\u001b[39m\u001b[39m*\u001b[39menv)\n\u001b[0;32m-> 1327\u001b[0m \u001b[39mreturn\u001b[39;00m \u001b[39mcls\u001b[39;49m\u001b[39m.\u001b[39;49m_clone(\n\u001b[1;32m   1328\u001b[0m     git,\n\u001b[1;32m   1329\u001b[0m     url,\n\u001b[1;32m   1330\u001b[0m     to_path,\n\u001b[1;32m   1331\u001b[0m     GitCmdObjectDB,\n\u001b[1;32m   1332\u001b[0m     progress,\n\u001b[1;32m   1333\u001b[0m     multi_options,\n\u001b[1;32m   1334\u001b[0m     allow_unsafe_protocols\u001b[39m=\u001b[39;49mallow_unsafe_protocols,\n\u001b[1;32m   1335\u001b[0m     allow_unsafe_options\u001b[39m=\u001b[39;49mallow_unsafe_options,\n\u001b[1;32m   1336\u001b[0m     \u001b[39m*\u001b[39;49m\u001b[39m*\u001b[39;49mkwargs,\n\u001b[1;32m   1337\u001b[0m )\n",
      "File \u001b[0;32m/opt/homebrew/lib/python3.10/site-packages/git/repo/base.py:1236\u001b[0m, in \u001b[0;36mRepo._clone\u001b[0;34m(cls, git, url, path, odb_default_type, progress, multi_options, allow_unsafe_protocols, allow_unsafe_options, **kwargs)\u001b[0m\n\u001b[1;32m   1233\u001b[0m     cmdline \u001b[39m=\u001b[39m remove_password_if_present(cmdline)\n\u001b[1;32m   1235\u001b[0m     log\u001b[39m.\u001b[39mdebug(\u001b[39m\"\u001b[39m\u001b[39mCmd(\u001b[39m\u001b[39m%s\u001b[39;00m\u001b[39m)\u001b[39m\u001b[39m'\u001b[39m\u001b[39ms unused stdout: \u001b[39m\u001b[39m%s\u001b[39;00m\u001b[39m\"\u001b[39m, cmdline, stdout)\n\u001b[0;32m-> 1236\u001b[0m     finalize_process(proc, stderr\u001b[39m=\u001b[39;49mstderr)\n\u001b[1;32m   1238\u001b[0m \u001b[39m# our git command could have a different working dir than our actual\u001b[39;00m\n\u001b[1;32m   1239\u001b[0m \u001b[39m# environment, hence we prepend its working dir if required\u001b[39;00m\n\u001b[1;32m   1240\u001b[0m \u001b[39mif\u001b[39;00m \u001b[39mnot\u001b[39;00m osp\u001b[39m.\u001b[39misabs(path):\n",
      "File \u001b[0;32m/opt/homebrew/lib/python3.10/site-packages/git/util.py:419\u001b[0m, in \u001b[0;36mfinalize_process\u001b[0;34m(proc, **kwargs)\u001b[0m\n\u001b[1;32m    417\u001b[0m \u001b[39m\"\"\"Wait for the process (clone, fetch, pull or push) and handle its errors accordingly\"\"\"\u001b[39;00m\n\u001b[1;32m    418\u001b[0m \u001b[39m# TODO: No close proc-streams??\u001b[39;00m\n\u001b[0;32m--> 419\u001b[0m proc\u001b[39m.\u001b[39;49mwait(\u001b[39m*\u001b[39;49m\u001b[39m*\u001b[39;49mkwargs)\n",
      "File \u001b[0;32m/opt/homebrew/lib/python3.10/site-packages/git/cmd.py:603\u001b[0m, in \u001b[0;36mGit.AutoInterrupt.wait\u001b[0;34m(self, stderr)\u001b[0m\n\u001b[1;32m    601\u001b[0m     errstr \u001b[39m=\u001b[39m read_all_from_possibly_closed_stream(p_stderr)\n\u001b[1;32m    602\u001b[0m     log\u001b[39m.\u001b[39mdebug(\u001b[39m\"\u001b[39m\u001b[39mAutoInterrupt wait stderr: \u001b[39m\u001b[39m%r\u001b[39;00m\u001b[39m\"\u001b[39m \u001b[39m%\u001b[39m (errstr,))\n\u001b[0;32m--> 603\u001b[0m     \u001b[39mraise\u001b[39;00m GitCommandError(remove_password_if_present(\u001b[39mself\u001b[39m\u001b[39m.\u001b[39margs), status, errstr)\n\u001b[1;32m    604\u001b[0m \u001b[39mreturn\u001b[39;00m status\n",
      "\u001b[0;31mGitCommandError\u001b[0m: Cmd('git') failed due to: exit code(128)\n  cmdline: git clone -v -- https://github.com/netlify/gocommerce/tree/deploy-button ./rep\n  stderr: 'Cloning into './rep'...\nfatal: repository 'https://github.com/netlify/gocommerce/tree/deploy-button/' not found\n'"
     ]
    }
   ],
   "source": [
    "git_name = \"https://github.com/netlify/gocommerce\"\n",
    "Repo.clone_from(git_name, \"./rep\", branch='deploy-button')"
   ]
  },
  {
   "cell_type": "code",
   "execution_count": 5,
   "metadata": {},
   "outputs": [
    {
     "name": "stderr",
     "output_type": "stream",
     "text": [
      "USAGE\n",
      "  cyclonedx-gomod <SUBCOMMAND> [FLAGS...] [<ARG>...]\n",
      "\n",
      "cyclonedx-gomod creates CycloneDX Software Bill of Materials (SBOM) from Go modules.\n",
      "\n",
      "Multiple subcommands are offered, each targeting different use cases:\n",
      "\n",
      "- SBOMs generated with \"app\" include only those modules that the target application\n",
      "  actually depends on. Modules required by tests or packages that are not imported\n",
      "  by the application are not included. Build constraints are evaluated, which enables\n",
      "  a very detailed view of what's really compiled into an application's binary.\n",
      "  \n",
      "- SBOMs generated with \"mod\" include the aggregate of modules required by all \n",
      "  packages in the target module. This optionally includes modules required by\n",
      "  tests and test packages. Build constraints are NOT evaluated, allowing for \n",
      "  a \"whole picture\" view on the target module's dependencies.\n",
      "\n",
      "- \"bin\" offers support for generating rudimentary SBOMs from binaries built with Go modules.\n",
      "\n",
      "Distributors of applications will typically use \"app\" and provide the resulting SBOMs\n",
      "alongside their application's binaries. This enables users to only consume SBOMs for\n",
      "artifacts that they actually use. For example, a Go module may include \"server\" and\n",
      "\"client\" applications, of which only the \"client\" is distributed to users. \n",
      "Additionally, modules included in \"client\" may differ, depending on which platform \n",
      "it was compiled for.\n",
      "\n",
      "Vendors or maintainers may choose to use \"mod\" for internal use, where it's too\n",
      "cumbersome to deal with many SBOMs for the same product. Possible use cases are: \n",
      "- Tracking of component inventory\n",
      "- Tracking of third party component licenses\n",
      "- Continuous monitoring for vulnerabilities\n",
      "\"mod\" may also be used to generate SBOMs for libraries.\n",
      "\n",
      "SUBCOMMANDS\n",
      "  app      Generate SBOMs for applications\n",
      "  bin      Generate SBOMs for binaries\n",
      "  mod      Generate SBOMs for modules\n",
      "  version  Show version information\n",
      "\n",
      "{\"level\":\"error\",\"error\":\"flag: help requested\",\"time\":\"2023-09-06T10:27:55+03:00\"}\n"
     ]
    },
    {
     "data": {
      "text/plain": [
       "256"
      ]
     },
     "execution_count": 5,
     "metadata": {},
     "output_type": "execute_result"
    }
   ],
   "source": [
    "os.system('cyclonedx-gomod')"
   ]
  }
 ],
 "metadata": {
  "kernelspec": {
   "display_name": "Python 3",
   "language": "python",
   "name": "python3"
  },
  "language_info": {
   "codemirror_mode": {
    "name": "ipython",
    "version": 3
   },
   "file_extension": ".py",
   "mimetype": "text/x-python",
   "name": "python",
   "nbconvert_exporter": "python",
   "pygments_lexer": "ipython3",
   "version": "3.10.13"
  },
  "orig_nbformat": 4
 },
 "nbformat": 4,
 "nbformat_minor": 2
}
