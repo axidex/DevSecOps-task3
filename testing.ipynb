{
 "cells": [
  {
   "cell_type": "code",
   "execution_count": 1,
   "metadata": {},
   "outputs": [],
   "source": [
    "from git import Repo\n",
    "import os\n",
    "import json, requests"
   ]
  },
  {
   "cell_type": "code",
   "execution_count": 7,
   "metadata": {},
   "outputs": [
    {
     "data": {
      "text/plain": [
       "<git.repo.base.Repo '/Users/axidex/Documents/github/DevSecOps-task3/rep/.git'>"
      ]
     },
     "execution_count": 7,
     "metadata": {},
     "output_type": "execute_result"
    }
   ],
   "source": [
    "git_name = \"https://github.com/netlify/gocommerce\"\n",
    "Repo.clone_from(git_name, \"./rep\", branch='deploy-button')"
   ]
  },
  {
   "cell_type": "code",
   "execution_count": 2,
   "metadata": {},
   "outputs": [
    {
     "ename": "JSONDecodeError",
     "evalue": "Expecting value: line 1 column 1 (char 0)",
     "output_type": "error",
     "traceback": [
      "\u001b[0;31m---------------------------------------------------------------------------\u001b[0m",
      "\u001b[0;31mJSONDecodeError\u001b[0m                           Traceback (most recent call last)",
      "\u001b[1;32m/Users/axidex/Documents/github/DevSecOps-task3/testing.ipynb Cell 3\u001b[0m in \u001b[0;36m<cell line: 4>\u001b[0;34m()\u001b[0m\n\u001b[1;32m      <a href='vscode-notebook-cell:/Users/axidex/Documents/github/DevSecOps-task3/testing.ipynb#W2sZmlsZQ%3D%3D?line=1'>2</a>\u001b[0m headers \u001b[39m=\u001b[39m {\u001b[39m\"\u001b[39m\u001b[39mX-Api-Key\u001b[39m\u001b[39m\"\u001b[39m: \u001b[39m\"\u001b[39m\u001b[39moYqFE4VTE5Oi0dcHiJctreWcFZOREH6x\u001b[39m\u001b[39m\"\u001b[39m, \u001b[39m\"\u001b[39m\u001b[39maccept\u001b[39m\u001b[39m\"\u001b[39m: \u001b[39m\"\u001b[39m\u001b[39mapplication/json\u001b[39m\u001b[39m\"\u001b[39m}\n\u001b[1;32m      <a href='vscode-notebook-cell:/Users/axidex/Documents/github/DevSecOps-task3/testing.ipynb#W2sZmlsZQ%3D%3D?line=2'>3</a>\u001b[0m resp \u001b[39m=\u001b[39m requests\u001b[39m.\u001b[39mget(\u001b[39m\"\u001b[39m\u001b[39mhttp://127.0.0.1:49482/\u001b[39m\u001b[39m\"\u001b[39m, headers\u001b[39m=\u001b[39mheaders)\n\u001b[0;32m----> <a href='vscode-notebook-cell:/Users/axidex/Documents/github/DevSecOps-task3/testing.ipynb#W2sZmlsZQ%3D%3D?line=3'>4</a>\u001b[0m parsed \u001b[39m=\u001b[39m json\u001b[39m.\u001b[39;49mloads(resp\u001b[39m.\u001b[39;49mcontent)\n\u001b[1;32m      <a href='vscode-notebook-cell:/Users/axidex/Documents/github/DevSecOps-task3/testing.ipynb#W2sZmlsZQ%3D%3D?line=4'>5</a>\u001b[0m \u001b[39mfor\u001b[39;00m el \u001b[39min\u001b[39;00m parsed:\n\u001b[1;32m      <a href='vscode-notebook-cell:/Users/axidex/Documents/github/DevSecOps-task3/testing.ipynb#W2sZmlsZQ%3D%3D?line=5'>6</a>\u001b[0m     \u001b[39mif\u001b[39;00m el[\u001b[39m'\u001b[39m\u001b[39mname\u001b[39m\u001b[39m'\u001b[39m] \u001b[39m==\u001b[39m \u001b[39m\"\u001b[39m\u001b[39m0c34/govwa\u001b[39m\u001b[39m\"\u001b[39m \u001b[39mand\u001b[39;00m el[\u001b[39m'\u001b[39m\u001b[39mversion\u001b[39m\u001b[39m'\u001b[39m] \u001b[39m==\u001b[39m \u001b[39m\"\u001b[39m\u001b[39mmaster\u001b[39m\u001b[39m\"\u001b[39m:\n",
      "File \u001b[0;32m/opt/homebrew/Cellar/python@3.10/3.10.13/Frameworks/Python.framework/Versions/3.10/lib/python3.10/json/__init__.py:346\u001b[0m, in \u001b[0;36mloads\u001b[0;34m(s, cls, object_hook, parse_float, parse_int, parse_constant, object_pairs_hook, **kw)\u001b[0m\n\u001b[1;32m    341\u001b[0m     s \u001b[39m=\u001b[39m s\u001b[39m.\u001b[39mdecode(detect_encoding(s), \u001b[39m'\u001b[39m\u001b[39msurrogatepass\u001b[39m\u001b[39m'\u001b[39m)\n\u001b[1;32m    343\u001b[0m \u001b[39mif\u001b[39;00m (\u001b[39mcls\u001b[39m \u001b[39mis\u001b[39;00m \u001b[39mNone\u001b[39;00m \u001b[39mand\u001b[39;00m object_hook \u001b[39mis\u001b[39;00m \u001b[39mNone\u001b[39;00m \u001b[39mand\u001b[39;00m\n\u001b[1;32m    344\u001b[0m         parse_int \u001b[39mis\u001b[39;00m \u001b[39mNone\u001b[39;00m \u001b[39mand\u001b[39;00m parse_float \u001b[39mis\u001b[39;00m \u001b[39mNone\u001b[39;00m \u001b[39mand\u001b[39;00m\n\u001b[1;32m    345\u001b[0m         parse_constant \u001b[39mis\u001b[39;00m \u001b[39mNone\u001b[39;00m \u001b[39mand\u001b[39;00m object_pairs_hook \u001b[39mis\u001b[39;00m \u001b[39mNone\u001b[39;00m \u001b[39mand\u001b[39;00m \u001b[39mnot\u001b[39;00m kw):\n\u001b[0;32m--> 346\u001b[0m     \u001b[39mreturn\u001b[39;00m _default_decoder\u001b[39m.\u001b[39;49mdecode(s)\n\u001b[1;32m    347\u001b[0m \u001b[39mif\u001b[39;00m \u001b[39mcls\u001b[39m \u001b[39mis\u001b[39;00m \u001b[39mNone\u001b[39;00m:\n\u001b[1;32m    348\u001b[0m     \u001b[39mcls\u001b[39m \u001b[39m=\u001b[39m JSONDecoder\n",
      "File \u001b[0;32m/opt/homebrew/Cellar/python@3.10/3.10.13/Frameworks/Python.framework/Versions/3.10/lib/python3.10/json/decoder.py:337\u001b[0m, in \u001b[0;36mJSONDecoder.decode\u001b[0;34m(self, s, _w)\u001b[0m\n\u001b[1;32m    332\u001b[0m \u001b[39mdef\u001b[39;00m \u001b[39mdecode\u001b[39m(\u001b[39mself\u001b[39m, s, _w\u001b[39m=\u001b[39mWHITESPACE\u001b[39m.\u001b[39mmatch):\n\u001b[1;32m    333\u001b[0m     \u001b[39m\"\"\"Return the Python representation of ``s`` (a ``str`` instance\u001b[39;00m\n\u001b[1;32m    334\u001b[0m \u001b[39m    containing a JSON document).\u001b[39;00m\n\u001b[1;32m    335\u001b[0m \n\u001b[1;32m    336\u001b[0m \u001b[39m    \"\"\"\u001b[39;00m\n\u001b[0;32m--> 337\u001b[0m     obj, end \u001b[39m=\u001b[39m \u001b[39mself\u001b[39;49m\u001b[39m.\u001b[39;49mraw_decode(s, idx\u001b[39m=\u001b[39;49m_w(s, \u001b[39m0\u001b[39;49m)\u001b[39m.\u001b[39;49mend())\n\u001b[1;32m    338\u001b[0m     end \u001b[39m=\u001b[39m _w(s, end)\u001b[39m.\u001b[39mend()\n\u001b[1;32m    339\u001b[0m     \u001b[39mif\u001b[39;00m end \u001b[39m!=\u001b[39m \u001b[39mlen\u001b[39m(s):\n",
      "File \u001b[0;32m/opt/homebrew/Cellar/python@3.10/3.10.13/Frameworks/Python.framework/Versions/3.10/lib/python3.10/json/decoder.py:355\u001b[0m, in \u001b[0;36mJSONDecoder.raw_decode\u001b[0;34m(self, s, idx)\u001b[0m\n\u001b[1;32m    353\u001b[0m     obj, end \u001b[39m=\u001b[39m \u001b[39mself\u001b[39m\u001b[39m.\u001b[39mscan_once(s, idx)\n\u001b[1;32m    354\u001b[0m \u001b[39mexcept\u001b[39;00m \u001b[39mStopIteration\u001b[39;00m \u001b[39mas\u001b[39;00m err:\n\u001b[0;32m--> 355\u001b[0m     \u001b[39mraise\u001b[39;00m JSONDecodeError(\u001b[39m\"\u001b[39m\u001b[39mExpecting value\u001b[39m\u001b[39m\"\u001b[39m, s, err\u001b[39m.\u001b[39mvalue) \u001b[39mfrom\u001b[39;00m \u001b[39mNone\u001b[39m\n\u001b[1;32m    356\u001b[0m \u001b[39mreturn\u001b[39;00m obj, end\n",
      "\u001b[0;31mJSONDecodeError\u001b[0m: Expecting value: line 1 column 1 (char 0)"
     ]
    }
   ],
   "source": [
    "uuid = 'not_found'\n",
    "headers = {\"X-Api-Key\": \"oYqFE4VTE5Oi0dcHiJctreWcFZOREH6x\", \"accept\": \"application/json\"}\n",
    "resp = requests.get(\"http://127.0.0.1:49482/\", headers=headers)\n",
    "parsed = json.loads(resp.content)\n",
    "for el in parsed:\n",
    "    if el['name'] == \"0c34/govwa\" and el['version'] == \"master\":\n",
    "        uuid = el[\"uuid\"]\n",
    "uuid"
   ]
  },
  {
   "cell_type": "code",
   "execution_count": 13,
   "metadata": {},
   "outputs": [
    {
     "ename": "ValidationError",
     "evalue": "1 validation error for MyDataModel\nwebsite_url\n  Input should be a valid URL, relative URL without a base [type=url_parsing, input_value='йцу', input_type=str]\n    For further information visit https://errors.pydantic.dev/2.3/v/url_parsing",
     "output_type": "error",
     "traceback": [
      "\u001b[0;31m---------------------------------------------------------------------------\u001b[0m",
      "\u001b[0;31mValidationError\u001b[0m                           Traceback (most recent call last)",
      "\u001b[1;32m/Users/axidex/Documents/github/DevSecOps-task3/testing.ipynb Cell 4\u001b[0m in \u001b[0;36m<cell line: 11>\u001b[0;34m()\u001b[0m\n\u001b[1;32m      <a href='vscode-notebook-cell:/Users/axidex/Documents/github/DevSecOps-task3/testing.ipynb#W3sZmlsZQ%3D%3D?line=5'>6</a>\u001b[0m data \u001b[39m=\u001b[39m {\n\u001b[1;32m      <a href='vscode-notebook-cell:/Users/axidex/Documents/github/DevSecOps-task3/testing.ipynb#W3sZmlsZQ%3D%3D?line=6'>7</a>\u001b[0m     \u001b[39m\"\u001b[39m\u001b[39mwebsite_url\u001b[39m\u001b[39m\"\u001b[39m: \u001b[39m\"\u001b[39m\u001b[39mйцу\u001b[39m\u001b[39m\"\u001b[39m\n\u001b[1;32m      <a href='vscode-notebook-cell:/Users/axidex/Documents/github/DevSecOps-task3/testing.ipynb#W3sZmlsZQ%3D%3D?line=7'>8</a>\u001b[0m }\n\u001b[1;32m     <a href='vscode-notebook-cell:/Users/axidex/Documents/github/DevSecOps-task3/testing.ipynb#W3sZmlsZQ%3D%3D?line=9'>10</a>\u001b[0m \u001b[39m# Создание экземпляра модели и валидация данных\u001b[39;00m\n\u001b[0;32m---> <a href='vscode-notebook-cell:/Users/axidex/Documents/github/DevSecOps-task3/testing.ipynb#W3sZmlsZQ%3D%3D?line=10'>11</a>\u001b[0m MyDataModel(\u001b[39m*\u001b[39;49m\u001b[39m*\u001b[39;49mdata)\n",
      "File \u001b[0;32m/opt/homebrew/lib/python3.10/site-packages/pydantic/main.py:165\u001b[0m, in \u001b[0;36mBaseModel.__init__\u001b[0;34m(__pydantic_self__, **data)\u001b[0m\n\u001b[1;32m    163\u001b[0m \u001b[39m# `__tracebackhide__` tells pytest and some other tools to omit this function from tracebacks\u001b[39;00m\n\u001b[1;32m    164\u001b[0m __tracebackhide__ \u001b[39m=\u001b[39m \u001b[39mTrue\u001b[39;00m\n\u001b[0;32m--> 165\u001b[0m __pydantic_self__\u001b[39m.\u001b[39;49m__pydantic_validator__\u001b[39m.\u001b[39;49mvalidate_python(data, self_instance\u001b[39m=\u001b[39;49m__pydantic_self__)\n",
      "\u001b[0;31mValidationError\u001b[0m: 1 validation error for MyDataModel\nwebsite_url\n  Input should be a valid URL, relative URL without a base [type=url_parsing, input_value='йцу', input_type=str]\n    For further information visit https://errors.pydantic.dev/2.3/v/url_parsing"
     ]
    }
   ],
   "source": [
    "from pydantic import BaseModel, HttpUrl\n",
    "class MyDataModel(BaseModel):\n",
    "    website_url: HttpUrl\n",
    "\n",
    "# Пример данных для валидации\n",
    "data = {\n",
    "    \"website_url\": \"йцу\"\n",
    "}\n",
    "\n",
    "# Создание экземпляра модели и валидация данных\n",
    "MyDataModel(**data)"
   ]
  },
  {
   "cell_type": "code",
   "execution_count": null,
   "metadata": {},
   "outputs": [],
   "source": [
    "import math\n",
    "\n",
    "# Simpson method\n",
    "def calculate_integral(a, b, n, f):\n",
    "    n >>= 1\n",
    "    n <<= 1\n",
    "\n",
    "    h = (b - a) / n\n",
    "    summ = f(a) + f(b)\n",
    "    \n",
    "    a += h\n",
    "\n",
    "    for i in range(1, n - 1, 2):\n",
    "        summ += 4 * f(a)\n",
    "        a += h\n",
    "        summ += 2 * f(a)\n",
    "        a += h\n",
    "    \n",
    "    summ += 4 * f(a)\n",
    "    summ *= h / 3\n",
    "\n",
    "    return summ\n",
    "\n",
    "def F1(x):\n",
    "    return 1 / math.sqrt(2 * math.pi)\n",
    "\n",
    "def F2(x):\n",
    "    return math.cos(x) / math.sqrt(math.pi)\n",
    "\n",
    "def F3(x):\n",
    "    return math.sin(x) / math.sqrt(math.pi)\n",
    "\n",
    "if __name__ == \"__main__\":\n",
    "    print(\"zeroz\")\n",
    "\n",
    "    summ = calculate_integral(0, 2 * math.pi, 100, lambda x: F1(x) * F2(x))\n",
    "    print(summ)\n",
    "\n",
    "    summ = calculate_integral(0, 2 * math.pi, 100, lambda x: F1(x) * F3(x))\n",
    "    print(summ)\n",
    "\n",
    "    summ = calculate_integral(0, 2 * math.pi, 100, lambda x: F2(x) * F3(x))\n",
    "    print(summ)\n",
    "\n",
    "    print(\"ones\")\n",
    "\n",
    "    summ = calculate_integral(0, 2 * math.pi, 100, lambda x: F1(x) * F1(x))\n",
    "    print(summ)\n",
    "\n",
    "    summ = calculate_integral(0, 2 * math.pi, 100, lambda x: F2(x) * F2(x))\n",
    "    print(summ)\n",
    "\n",
    "    summ = calculate_integral(0, 2 * math.pi, 100, lambda x: F3(x) * F3(x))\n",
    "    print(summ)\n"
   ]
  }
 ],
 "metadata": {
  "kernelspec": {
   "display_name": "Python 3",
   "language": "python",
   "name": "python3"
  },
  "language_info": {
   "codemirror_mode": {
    "name": "ipython",
    "version": 3
   },
   "file_extension": ".py",
   "mimetype": "text/x-python",
   "name": "python",
   "nbconvert_exporter": "python",
   "pygments_lexer": "ipython3",
   "version": "3.10.13"
  },
  "orig_nbformat": 4
 },
 "nbformat": 4,
 "nbformat_minor": 2
}
